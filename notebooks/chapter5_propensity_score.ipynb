{
 "cells": [
  {
   "cell_type": "markdown",
   "id": "43b5202e7e21f31c",
   "metadata": {
    "collapsed": false
   },
   "source": [
    "#   Chapter 5: Propensity Score"
   ]
  },
  {
   "cell_type": "markdown",
   "id": "49fc2d86b64e5101",
   "metadata": {
    "collapsed": false
   },
   "source": [
    "## 5.1. Import Libraries"
   ]
  },
  {
   "cell_type": "code",
   "execution_count": 1,
   "id": "398a983e502c6033",
   "metadata": {
    "collapsed": false,
    "ExecuteTime": {
     "end_time": "2024-05-14T08:47:43.906575Z",
     "start_time": "2024-05-14T08:47:42.948837Z"
    }
   },
   "outputs": [],
   "source": [
    "import numpy as np \n",
    "import pandas as pd\n",
    "\n",
    "from joblib import Parallel, delayed\n",
    "from patsy import dmatrix\n",
    "from sklearn.linear_model import LogisticRegression\n",
    "from sklearn.neighbors import KNeighborsRegressor\n",
    "from statsmodels.formula import api as smf"
   ]
  },
  {
   "cell_type": "code",
   "execution_count": 2,
   "id": "bc2b1305b34d30b1",
   "metadata": {
    "collapsed": false,
    "ExecuteTime": {
     "end_time": "2024-05-14T08:47:43.935495Z",
     "start_time": "2024-05-14T08:47:43.907053Z"
    }
   },
   "outputs": [
    {
     "data": {
      "text/plain": "   departament_id  intervention  engagement_score  tenure  n_of_reports  \\\n0              76             1          0.277359       6             4   \n1              76             1         -0.449646       4             8   \n2              76             1          0.769703       6             4   \n3              76             1         -0.121763       6             4   \n4              76             1          1.526147       6             4   \n\n   gender  role  last_engagement_score  department_score  department_size  \n0       2     4               0.614261          0.224077              843  \n1       2     4               0.069636          0.224077              843  \n2       2     4               0.866918          0.224077              843  \n3       2     4               0.029071          0.224077              843  \n4       1     4               0.589857          0.224077              843  ",
      "text/html": "<div>\n<style scoped>\n    .dataframe tbody tr th:only-of-type {\n        vertical-align: middle;\n    }\n\n    .dataframe tbody tr th {\n        vertical-align: top;\n    }\n\n    .dataframe thead th {\n        text-align: right;\n    }\n</style>\n<table border=\"1\" class=\"dataframe\">\n  <thead>\n    <tr style=\"text-align: right;\">\n      <th></th>\n      <th>departament_id</th>\n      <th>intervention</th>\n      <th>engagement_score</th>\n      <th>tenure</th>\n      <th>n_of_reports</th>\n      <th>gender</th>\n      <th>role</th>\n      <th>last_engagement_score</th>\n      <th>department_score</th>\n      <th>department_size</th>\n    </tr>\n  </thead>\n  <tbody>\n    <tr>\n      <th>0</th>\n      <td>76</td>\n      <td>1</td>\n      <td>0.277359</td>\n      <td>6</td>\n      <td>4</td>\n      <td>2</td>\n      <td>4</td>\n      <td>0.614261</td>\n      <td>0.224077</td>\n      <td>843</td>\n    </tr>\n    <tr>\n      <th>1</th>\n      <td>76</td>\n      <td>1</td>\n      <td>-0.449646</td>\n      <td>4</td>\n      <td>8</td>\n      <td>2</td>\n      <td>4</td>\n      <td>0.069636</td>\n      <td>0.224077</td>\n      <td>843</td>\n    </tr>\n    <tr>\n      <th>2</th>\n      <td>76</td>\n      <td>1</td>\n      <td>0.769703</td>\n      <td>6</td>\n      <td>4</td>\n      <td>2</td>\n      <td>4</td>\n      <td>0.866918</td>\n      <td>0.224077</td>\n      <td>843</td>\n    </tr>\n    <tr>\n      <th>3</th>\n      <td>76</td>\n      <td>1</td>\n      <td>-0.121763</td>\n      <td>6</td>\n      <td>4</td>\n      <td>2</td>\n      <td>4</td>\n      <td>0.029071</td>\n      <td>0.224077</td>\n      <td>843</td>\n    </tr>\n    <tr>\n      <th>4</th>\n      <td>76</td>\n      <td>1</td>\n      <td>1.526147</td>\n      <td>6</td>\n      <td>4</td>\n      <td>1</td>\n      <td>4</td>\n      <td>0.589857</td>\n      <td>0.224077</td>\n      <td>843</td>\n    </tr>\n  </tbody>\n</table>\n</div>"
     },
     "execution_count": 2,
     "metadata": {},
     "output_type": "execute_result"
    }
   ],
   "source": [
    "df = pd.read_csv('data/management_training.csv')\n",
    "df.head()"
   ]
  },
  {
   "cell_type": "markdown",
   "id": "68a19d6e63c28c3c",
   "metadata": {
    "collapsed": false
   },
   "source": [
    "## 5.2. Adjusting with Regression\n"
   ]
  },
  {
   "cell_type": "code",
   "execution_count": 3,
   "id": "2a54cd31e0a21163",
   "metadata": {
    "collapsed": false,
    "ExecuteTime": {
     "end_time": "2024-05-14T08:47:43.953369Z",
     "start_time": "2024-05-14T08:47:43.938020Z"
    }
   },
   "outputs": [
    {
     "name": "stdout",
     "output_type": "stream",
     "text": [
      "================================================================================\n",
      "                   coef    std err          t      P>|t|      [0.025      0.975]\n",
      "--------------------------------------------------------------------------------\n",
      "Intercept       -0.2347      0.014    -16.619      0.000      -0.262      -0.207\n",
      "intervention     0.4346      0.019     22.616      0.000       0.397       0.472\n",
      "================================================================================\n"
     ]
    }
   ],
   "source": [
    "# basic model\n",
    "print(smf.ols('engagement_score ~ intervention', data=df).fit().summary().tables[1])"
   ]
  },
  {
   "cell_type": "code",
   "execution_count": 4,
   "id": "ed38682c3e9b07a0",
   "metadata": {
    "collapsed": false,
    "ExecuteTime": {
     "end_time": "2024-05-14T08:47:44.042287Z",
     "start_time": "2024-05-14T08:47:43.964495Z"
    }
   },
   "outputs": [
    {
     "name": "stdout",
     "output_type": "stream",
     "text": [
      "                            OLS Regression Results                            \n",
      "==============================================================================\n",
      "Dep. Variable:       engagement_score   R-squared:                       0.256\n",
      "Model:                            OLS   Adj. R-squared:                  0.256\n",
      "Method:                 Least Squares   F-statistic:                     357.8\n",
      "Date:                Tue, 14 May 2024   Prob (F-statistic):               0.00\n",
      "Time:                        01:47:44   Log-Likelihood:                -13205.\n",
      "No. Observations:               10391   AIC:                         2.643e+04\n",
      "Df Residuals:                   10380   BIC:                         2.651e+04\n",
      "Df Model:                          10                                         \n",
      "Covariance Type:            nonrobust                                         \n",
      "=========================================================================================\n",
      "                            coef    std err          t      P>|t|      [0.025      0.975]\n",
      "-----------------------------------------------------------------------------------------\n",
      "Intercept                -1.7206      0.052    -32.942      0.000      -1.823      -1.618\n",
      "C(gender)[T.2]           -0.2705      0.017    -15.942      0.000      -0.304      -0.237\n",
      "C(role)[T.1]             -0.4742      0.035    -13.602      0.000      -0.542      -0.406\n",
      "C(role)[T.2]             -0.2395      0.037     -6.518      0.000      -0.311      -0.167\n",
      "C(role)[T.3]             -0.4003      0.037    -10.705      0.000      -0.474      -0.327\n",
      "C(role)[T.4]             -0.1068      0.034     -3.179      0.001      -0.173      -0.041\n",
      "intervention              0.2678      0.017     15.343      0.000       0.234       0.302\n",
      "tenure                    0.3694      0.008     47.742      0.000       0.354       0.385\n",
      "last_engagement_score    -0.0102      0.007     -1.537      0.124      -0.023       0.003\n",
      "department_score          0.0030      0.010      0.284      0.777      -0.017       0.023\n",
      "n_of_reports              0.0035      0.004      0.901      0.367      -0.004       0.011\n",
      "==============================================================================\n",
      "Omnibus:                       53.651   Durbin-Watson:                   1.781\n",
      "Prob(Omnibus):                  0.000   Jarque-Bera (JB):               45.998\n",
      "Skew:                           0.107   Prob(JB):                     1.03e-10\n",
      "Kurtosis:                       2.754   Cond. No.                         59.7\n",
      "==============================================================================\n",
      "\n",
      "Notes:\n",
      "[1] Standard Errors assume that the covariance matrix of the errors is correctly specified.\n",
      " \n",
      " \n",
      "Average Treatment Effect (ATE): 0.2677908576676856\n",
      "95% CI: [0.23357751 0.30200421]\n"
     ]
    }
   ],
   "source": [
    "# adding covariates \n",
    "model = smf.ols(\"\"\"\n",
    "engagement_score ~ intervention \n",
    "+ tenure \n",
    "+ last_engagement_score \n",
    "+ department_score \n",
    "+ n_of_reports \n",
    "+ C(gender) \n",
    "+ C(role)\n",
    "\"\"\", data=df).fit()\n",
    "print(model.summary()) \n",
    "print(' ')\n",
    "print(' ')\n",
    "print('Average Treatment Effect (ATE):', model.params['intervention'])\n",
    "print('95% CI:', model.conf_int().loc['intervention', :].values.T)"
   ]
  },
  {
   "cell_type": "code",
   "execution_count": 5,
   "id": "f4068e6ba17a9adb",
   "metadata": {
    "collapsed": false,
    "ExecuteTime": {
     "end_time": "2024-05-14T08:47:44.046841Z",
     "start_time": "2024-05-14T08:47:44.045006Z"
    }
   },
   "outputs": [
    {
     "name": "stdout",
     "output_type": "stream",
     "text": [
      "Average Treatment Effect (ATE): 0.2677908576676856\n",
      "95% CI: [0.23357751 0.30200421]\n"
     ]
    }
   ],
   "source": [
    "print('Average Treatment Effect (ATE):', model.params['intervention'])\n",
    "print('95% CI:',  model.conf_int().loc['intervention', :].values.T)"
   ]
  },
  {
   "cell_type": "markdown",
   "id": "17813d2703dbc208",
   "metadata": {
    "collapsed": false
   },
   "source": [
    "## 5.3. Propensity Score\n",
    "- You don't need to control for confounders to achieve conditional independence. Instead, you can control for the conditional probability of treatment (a balancing score, aka, a propensity score)\n",
    "\n",
    "- A propensity score also serves as a dimensionality reduction technique that helps to block backdoor paths\n",
    "\n",
    "- The propensity score is the propensity to receive the treatment\n",
    "\n",
    "- If you take two samples, one from treated and one from the control group, but with same probability of receiving the treatment, they are comparable. Since they have same probability of receiving the treatment, the only reason one of them received the treatment and the other did not is by pure chance (i.e., as good as random) "
   ]
  },
  {
   "cell_type": "markdown",
   "id": "9457fc7a1ad699d5",
   "metadata": {
    "collapsed": false
   },
   "source": [
    "### 5.3.1. Propensity Score Estimation"
   ]
  },
  {
   "cell_type": "code",
   "execution_count": 6,
   "id": "c0b654eca118d39b",
   "metadata": {
    "collapsed": false,
    "ExecuteTime": {
     "end_time": "2024-05-14T08:47:44.439688Z",
     "start_time": "2024-05-14T08:47:44.059988Z"
    }
   },
   "outputs": [
    {
     "name": "stdout",
     "output_type": "stream",
     "text": [
      "                           Logit Regression Results                           \n",
      "==============================================================================\n",
      "Dep. Variable:           intervention   No. Observations:                10391\n",
      "Model:                          Logit   Df Residuals:                    10375\n",
      "Method:                           MLE   Df Model:                           15\n",
      "Date:                Tue, 14 May 2024   Pseudo R-squ.:                 0.04063\n",
      "Time:                        01:47:44   Log-Likelihood:                -6877.9\n",
      "converged:                       True   LL-Null:                       -7169.2\n",
      "Covariance Type:            nonrobust   LLR p-value:                1.733e-114\n",
      "=========================================================================================\n",
      "                            coef    std err          z      P>|z|      [0.025      0.975]\n",
      "-----------------------------------------------------------------------------------------\n",
      "Intercept                -1.8400      0.141    -13.016      0.000      -2.117      -1.563\n",
      "C(n_of_reports)[T.2]      0.0515      0.086      0.600      0.548      -0.117       0.220\n",
      "C(n_of_reports)[T.3]     -0.3246      0.207     -1.569      0.117      -0.730       0.081\n",
      "C(n_of_reports)[T.4]      0.0615      0.074      0.827      0.408      -0.084       0.207\n",
      "C(n_of_reports)[T.5]      0.2573      0.124      2.080      0.038       0.015       0.500\n",
      "C(n_of_reports)[T.6]      0.2808      0.343      0.820      0.412      -0.391       0.952\n",
      "C(n_of_reports)[T.7]      0.5027      0.339      1.483      0.138      -0.162       1.167\n",
      "C(n_of_reports)[T.8]      0.0042      0.080      0.053      0.958      -0.153       0.162\n",
      "C(gender)[T.2]           -0.1028      0.041     -2.534      0.011      -0.182      -0.023\n",
      "C(role)[T.1]              0.0629      0.084      0.747      0.455      -0.102       0.228\n",
      "C(role)[T.2]              0.3937      0.090      4.396      0.000       0.218       0.569\n",
      "C(role)[T.3]              0.0149      0.090      0.166      0.868      -0.161       0.191\n",
      "C(role)[T.4]              0.0604      0.080      0.751      0.453      -0.097       0.218\n",
      "tenure                    0.3582      0.019     18.605      0.000       0.320       0.396\n",
      "last_engagement_score     0.1067      0.016      6.675      0.000       0.075       0.138\n",
      "department_score         -0.0210      0.025     -0.832      0.406      -0.070       0.028\n",
      "=========================================================================================\n"
     ]
    }
   ],
   "source": [
    "propensity_score_model = smf.logit(\"\"\"\n",
    "intervention ~ tenure \n",
    "+ last_engagement_score\n",
    "+ department_score\n",
    "+ C(n_of_reports)\n",
    "+ C(gender)\n",
    "+ C(role)\n",
    "\"\"\", data=df).fit(disp=0)\n",
    "print(propensity_score_model.summary()) "
   ]
  },
  {
   "cell_type": "code",
   "execution_count": 7,
   "id": "53dcde993ce04c4b",
   "metadata": {
    "collapsed": false,
    "ExecuteTime": {
     "end_time": "2024-05-14T08:47:44.492044Z",
     "start_time": "2024-05-14T08:47:44.438790Z"
    }
   },
   "outputs": [
    {
     "data": {
      "text/plain": "   departament_id  intervention  engagement_score  tenure  n_of_reports  \\\n0              76             1          0.277359       6             4   \n1              76             1         -0.449646       4             8   \n2              76             1          0.769703       6             4   \n3              76             1         -0.121763       6             4   \n4              76             1          1.526147       6             4   \n\n   gender  role  last_engagement_score  department_score  department_size  \\\n0       2     4               0.614261          0.224077              843   \n1       2     4               0.069636          0.224077              843   \n2       2     4               0.866918          0.224077              843   \n3       2     4               0.029071          0.224077              843   \n4       1     4               0.589857          0.224077              843   \n\n   propensity_score  \n0          0.596106  \n1          0.391138  \n2          0.602578  \n3          0.580990  \n4          0.619976  ",
      "text/html": "<div>\n<style scoped>\n    .dataframe tbody tr th:only-of-type {\n        vertical-align: middle;\n    }\n\n    .dataframe tbody tr th {\n        vertical-align: top;\n    }\n\n    .dataframe thead th {\n        text-align: right;\n    }\n</style>\n<table border=\"1\" class=\"dataframe\">\n  <thead>\n    <tr style=\"text-align: right;\">\n      <th></th>\n      <th>departament_id</th>\n      <th>intervention</th>\n      <th>engagement_score</th>\n      <th>tenure</th>\n      <th>n_of_reports</th>\n      <th>gender</th>\n      <th>role</th>\n      <th>last_engagement_score</th>\n      <th>department_score</th>\n      <th>department_size</th>\n      <th>propensity_score</th>\n    </tr>\n  </thead>\n  <tbody>\n    <tr>\n      <th>0</th>\n      <td>76</td>\n      <td>1</td>\n      <td>0.277359</td>\n      <td>6</td>\n      <td>4</td>\n      <td>2</td>\n      <td>4</td>\n      <td>0.614261</td>\n      <td>0.224077</td>\n      <td>843</td>\n      <td>0.596106</td>\n    </tr>\n    <tr>\n      <th>1</th>\n      <td>76</td>\n      <td>1</td>\n      <td>-0.449646</td>\n      <td>4</td>\n      <td>8</td>\n      <td>2</td>\n      <td>4</td>\n      <td>0.069636</td>\n      <td>0.224077</td>\n      <td>843</td>\n      <td>0.391138</td>\n    </tr>\n    <tr>\n      <th>2</th>\n      <td>76</td>\n      <td>1</td>\n      <td>0.769703</td>\n      <td>6</td>\n      <td>4</td>\n      <td>2</td>\n      <td>4</td>\n      <td>0.866918</td>\n      <td>0.224077</td>\n      <td>843</td>\n      <td>0.602578</td>\n    </tr>\n    <tr>\n      <th>3</th>\n      <td>76</td>\n      <td>1</td>\n      <td>-0.121763</td>\n      <td>6</td>\n      <td>4</td>\n      <td>2</td>\n      <td>4</td>\n      <td>0.029071</td>\n      <td>0.224077</td>\n      <td>843</td>\n      <td>0.580990</td>\n    </tr>\n    <tr>\n      <th>4</th>\n      <td>76</td>\n      <td>1</td>\n      <td>1.526147</td>\n      <td>6</td>\n      <td>4</td>\n      <td>1</td>\n      <td>4</td>\n      <td>0.589857</td>\n      <td>0.224077</td>\n      <td>843</td>\n      <td>0.619976</td>\n    </tr>\n  </tbody>\n</table>\n</div>"
     },
     "execution_count": 7,
     "metadata": {},
     "output_type": "execute_result"
    }
   ],
   "source": [
    "propensity_score_data = df.assign(\n",
    "    propensity_score = propensity_score_model.predict(df)\n",
    ")\n",
    "propensity_score_data.head()"
   ]
  },
  {
   "cell_type": "code",
   "execution_count": 8,
   "id": "27fefbbf8f45cbed",
   "metadata": {
    "collapsed": false,
    "ExecuteTime": {
     "end_time": "2024-05-14T08:47:44.499935Z",
     "start_time": "2024-05-14T08:47:44.492211Z"
    }
   },
   "outputs": [
    {
     "data": {
      "text/plain": "                  mean    median\nintervention                    \n0             0.510464  0.517268\n1             0.565136  0.574800",
      "text/html": "<div>\n<style scoped>\n    .dataframe tbody tr th:only-of-type {\n        vertical-align: middle;\n    }\n\n    .dataframe tbody tr th {\n        vertical-align: top;\n    }\n\n    .dataframe thead th {\n        text-align: right;\n    }\n</style>\n<table border=\"1\" class=\"dataframe\">\n  <thead>\n    <tr style=\"text-align: right;\">\n      <th></th>\n      <th>mean</th>\n      <th>median</th>\n    </tr>\n    <tr>\n      <th>intervention</th>\n      <th></th>\n      <th></th>\n    </tr>\n  </thead>\n  <tbody>\n    <tr>\n      <th>0</th>\n      <td>0.510464</td>\n      <td>0.517268</td>\n    </tr>\n    <tr>\n      <th>1</th>\n      <td>0.565136</td>\n      <td>0.574800</td>\n    </tr>\n  </tbody>\n</table>\n</div>"
     },
     "execution_count": 8,
     "metadata": {},
     "output_type": "execute_result"
    }
   ],
   "source": [
    "# check performance by intervention\n",
    "propensity_score_data.groupby(['intervention'])['propensity_score'].agg(['mean', 'median'])"
   ]
  },
  {
   "cell_type": "markdown",
   "id": "b5600f11b257ac69",
   "metadata": {
    "collapsed": false
   },
   "source": [
    "Notes on using ML models for Propensity Score Matching\n",
    "- Ensure that the predictions are calibrated probabilities\n",
    "- Ensure that out-of-fold predictions are used to avoid bias due to overfitting"
   ]
  },
  {
   "cell_type": "markdown",
   "id": "efefea1b64d31687",
   "metadata": {
    "collapsed": false
   },
   "source": [
    "### 5.3.2. Propensity Score and Orthogonalization\n",
    "You can use propensity score directly in a linear regression to predict treatment effect"
   ]
  },
  {
   "cell_type": "code",
   "execution_count": 9,
   "id": "617a56f95f12962b",
   "metadata": {
    "collapsed": false,
    "ExecuteTime": {
     "end_time": "2024-05-14T08:47:44.544746Z",
     "start_time": "2024-05-14T08:47:44.500839Z"
    }
   },
   "outputs": [
    {
     "name": "stdout",
     "output_type": "stream",
     "text": [
      "                            OLS Regression Results                            \n",
      "==============================================================================\n",
      "Dep. Variable:       engagement_score   R-squared:                       0.173\n",
      "Model:                            OLS   Adj. R-squared:                  0.173\n",
      "Method:                 Least Squares   F-statistic:                     1084.\n",
      "Date:                Tue, 14 May 2024   Prob (F-statistic):               0.00\n",
      "Time:                        01:47:44   Log-Likelihood:                -13759.\n",
      "No. Observations:               10391   AIC:                         2.752e+04\n",
      "Df Residuals:                   10388   BIC:                         2.755e+04\n",
      "Df Model:                           2                                         \n",
      "Covariance Type:            nonrobust                                         \n",
      "====================================================================================\n",
      "                       coef    std err          t      P>|t|      [0.025      0.975]\n",
      "------------------------------------------------------------------------------------\n",
      "Intercept           -1.8339      0.042    -43.311      0.000      -1.917      -1.751\n",
      "intervention         0.2633      0.018     14.298      0.000       0.227       0.299\n",
      "propensity_score     3.1330      0.079     39.736      0.000       2.978       3.288\n",
      "==============================================================================\n",
      "Omnibus:                       39.392   Durbin-Watson:                   1.672\n",
      "Prob(Omnibus):                  0.000   Jarque-Bera (JB):               33.053\n",
      "Skew:                           0.075   Prob(JB):                     6.65e-08\n",
      "Kurtosis:                       2.768   Cond. No.                         12.8\n",
      "==============================================================================\n",
      "\n",
      "Notes:\n",
      "[1] Standard Errors assume that the covariance matrix of the errors is correctly specified.\n"
     ]
    }
   ],
   "source": [
    "model = smf.ols(\"\"\"\n",
    "engagement_score ~ intervention \n",
    "+ propensity_score\n",
    "\"\"\", data=propensity_score_data).fit()\n",
    "print(model.summary())"
   ]
  },
  {
   "cell_type": "markdown",
   "id": "6623a834027d8405",
   "metadata": {
    "collapsed": false
   },
   "source": [
    "### 5.3.3. Propensity Score Matching\n",
    "You can use propensity score directly in a linear regression to predict treatment effect"
   ]
  },
  {
   "cell_type": "code",
   "execution_count": 10,
   "id": "4f8fce2b4ec0a141",
   "metadata": {
    "collapsed": false,
    "ExecuteTime": {
     "end_time": "2024-05-14T08:47:44.587814Z",
     "start_time": "2024-05-14T08:47:44.522435Z"
    }
   },
   "outputs": [
    {
     "data": {
      "text/plain": "   departament_id  intervention  engagement_score  tenure  n_of_reports  \\\n0              76             1          0.277359       6             4   \n1              76             1         -0.449646       4             8   \n2              76             1          0.769703       6             4   \n3              76             1         -0.121763       6             4   \n4              76             1          1.526147       6             4   \n\n   gender  role  last_engagement_score  department_score  department_size  \\\n0       2     4               0.614261          0.224077              843   \n1       2     4               0.069636          0.224077              843   \n2       2     4               0.866918          0.224077              843   \n3       2     4               0.029071          0.224077              843   \n4       1     4               0.589857          0.224077              843   \n\n   propensity_score     match  \n0          0.596106  0.557680  \n1          0.391138 -0.952622  \n2          0.602578 -0.618381  \n3          0.580990 -1.404962  \n4          0.619976  0.000354  ",
      "text/html": "<div>\n<style scoped>\n    .dataframe tbody tr th:only-of-type {\n        vertical-align: middle;\n    }\n\n    .dataframe tbody tr th {\n        vertical-align: top;\n    }\n\n    .dataframe thead th {\n        text-align: right;\n    }\n</style>\n<table border=\"1\" class=\"dataframe\">\n  <thead>\n    <tr style=\"text-align: right;\">\n      <th></th>\n      <th>departament_id</th>\n      <th>intervention</th>\n      <th>engagement_score</th>\n      <th>tenure</th>\n      <th>n_of_reports</th>\n      <th>gender</th>\n      <th>role</th>\n      <th>last_engagement_score</th>\n      <th>department_score</th>\n      <th>department_size</th>\n      <th>propensity_score</th>\n      <th>match</th>\n    </tr>\n  </thead>\n  <tbody>\n    <tr>\n      <th>0</th>\n      <td>76</td>\n      <td>1</td>\n      <td>0.277359</td>\n      <td>6</td>\n      <td>4</td>\n      <td>2</td>\n      <td>4</td>\n      <td>0.614261</td>\n      <td>0.224077</td>\n      <td>843</td>\n      <td>0.596106</td>\n      <td>0.557680</td>\n    </tr>\n    <tr>\n      <th>1</th>\n      <td>76</td>\n      <td>1</td>\n      <td>-0.449646</td>\n      <td>4</td>\n      <td>8</td>\n      <td>2</td>\n      <td>4</td>\n      <td>0.069636</td>\n      <td>0.224077</td>\n      <td>843</td>\n      <td>0.391138</td>\n      <td>-0.952622</td>\n    </tr>\n    <tr>\n      <th>2</th>\n      <td>76</td>\n      <td>1</td>\n      <td>0.769703</td>\n      <td>6</td>\n      <td>4</td>\n      <td>2</td>\n      <td>4</td>\n      <td>0.866918</td>\n      <td>0.224077</td>\n      <td>843</td>\n      <td>0.602578</td>\n      <td>-0.618381</td>\n    </tr>\n    <tr>\n      <th>3</th>\n      <td>76</td>\n      <td>1</td>\n      <td>-0.121763</td>\n      <td>6</td>\n      <td>4</td>\n      <td>2</td>\n      <td>4</td>\n      <td>0.029071</td>\n      <td>0.224077</td>\n      <td>843</td>\n      <td>0.580990</td>\n      <td>-1.404962</td>\n    </tr>\n    <tr>\n      <th>4</th>\n      <td>76</td>\n      <td>1</td>\n      <td>1.526147</td>\n      <td>6</td>\n      <td>4</td>\n      <td>1</td>\n      <td>4</td>\n      <td>0.589857</td>\n      <td>0.224077</td>\n      <td>843</td>\n      <td>0.619976</td>\n      <td>0.000354</td>\n    </tr>\n  </tbody>\n</table>\n</div>"
     },
     "execution_count": 10,
     "metadata": {},
     "output_type": "execute_result"
    }
   ],
   "source": [
    "T = 'intervention'\n",
    "X = 'propensity_score'\n",
    "Y = 'engagement_score'\n",
    "\n",
    "treated = propensity_score_data.query(f'{T}==1')\n",
    "untreated = propensity_score_data.query(f'{T}==0')\n",
    "\n",
    "mt0 = KNeighborsRegressor(n_neighbors=1).fit(untreated[[X]], untreated[Y])\n",
    "mt1 = KNeighborsRegressor(n_neighbors=1).fit(treated[[X]], treated[Y])\n",
    "\n",
    "predicted = pd.concat(\n",
    "    [\n",
    "        # find matches for the treated using the untreated KNN model\n",
    "        treated.assign(match=mt0.predict(treated[[X]])),\n",
    "        untreated.assign(match=mt1.predict(untreated[[X]]))\n",
    "    ]\n",
    ")\n",
    "\n",
    "predicted.head()"
   ]
  },
  {
   "cell_type": "code",
   "execution_count": 11,
   "id": "ae0958b283a20d49",
   "metadata": {
    "collapsed": false,
    "ExecuteTime": {
     "end_time": "2024-05-14T08:47:44.588342Z",
     "start_time": "2024-05-14T08:47:44.551168Z"
    }
   },
   "outputs": [
    {
     "data": {
      "text/plain": "0.28777443474045966"
     },
     "execution_count": 11,
     "metadata": {},
     "output_type": "execute_result"
    }
   ],
   "source": [
    "np.mean(\n",
    "    (predicted[Y] - predicted['match']) * predicted [T]\n",
    "    + (predicted['match'] - predicted[Y]) * (1-predicted[T])\n",
    ")"
   ]
  },
  {
   "cell_type": "markdown",
   "id": "bbeef290e368a07b",
   "metadata": {
    "collapsed": false
   },
   "source": [
    "### 5.3.4. Inverse Propensity Weighting"
   ]
  },
  {
   "cell_type": "code",
   "outputs": [
    {
     "name": "stdout",
     "output_type": "stream",
     "text": [
      "E[Y1]: 0.11656317232946742\n",
      "E[Y0]: -0.14941553647814415\n",
      "ATE 0.26597870880761154\n"
     ]
    }
   ],
   "source": [
    "weight_t = 1/propensity_score_data.query('intervention==1')['propensity_score']\n",
    "weight_nt = 1/(1-propensity_score_data.query('intervention==0')['propensity_score'])\n",
    "t1 = propensity_score_data.query('intervention==1')['engagement_score']\n",
    "t0 = propensity_score_data.query('intervention==0')['engagement_score']\n",
    "\n",
    "y1 = sum(t1*weight_t)/len(propensity_score_data)\n",
    "y0 = sum(t0*weight_nt)/len(propensity_score_data)\n",
    "\n",
    "print('E[Y1]:', y1)\n",
    "print('E[Y0]:', y0)\n",
    "print('ATE', y1  - y0)"
   ],
   "metadata": {
    "collapsed": false,
    "ExecuteTime": {
     "end_time": "2024-05-14T08:47:44.589094Z",
     "start_time": "2024-05-14T08:47:44.559150Z"
    }
   },
   "id": "e879e908649ab27c",
   "execution_count": 12
  },
  {
   "cell_type": "markdown",
   "source": [
    "### 5.3.5. Variance of IPW"
   ],
   "metadata": {
    "collapsed": false
   },
   "id": "eb467154ce77d40d"
  },
  {
   "cell_type": "code",
   "outputs": [],
   "source": [
    "def estimate_ate_with_propensity_score(df, propensity_score_formula, T, Y): \n",
    "    \n",
    "    X = dmatrix(propensity_score_formula, df)\n",
    "    ps_model = LogisticRegression(penalty=None, max_iter=1000).fit(X, df[T])\n",
    "    ps = ps_model.predict_proba(X)[:, 1]\n",
    "    \n",
    "    return np.mean((df[T]-ps)/ (ps*(1-ps)) * df[Y])"
   ],
   "metadata": {
    "collapsed": false,
    "ExecuteTime": {
     "end_time": "2024-05-14T08:47:44.589671Z",
     "start_time": "2024-05-14T08:47:44.571096Z"
    }
   },
   "id": "666493b4295e5fe7",
   "execution_count": 13
  },
  {
   "cell_type": "code",
   "outputs": [
    {
     "name": "stdout",
     "output_type": "stream",
     "text": [
      "0.26601327333120944\n"
     ]
    }
   ],
   "source": [
    "formula = \"\"\"tenure + last_engagement_score + department_score\n",
    "+ C(n_of_reports) + C(gender) + C(role)\n",
    "\"\"\"\n",
    "T = 'intervention'\n",
    "Y = 'engagement_score'\n",
    "\n",
    "print(estimate_ate_with_propensity_score(df, formula, T, Y))"
   ],
   "metadata": {
    "collapsed": false,
    "ExecuteTime": {
     "end_time": "2024-05-14T08:47:44.713533Z",
     "start_time": "2024-05-14T08:47:44.605190Z"
    }
   },
   "id": "6a011716430db049",
   "execution_count": 14
  },
  {
   "cell_type": "code",
   "outputs": [
    {
     "name": "stdout",
     "output_type": "stream",
     "text": [
      "ATE: 0.26601327333120944\n"
     ]
    }
   ],
   "source": [
    "print(f'ATE: {estimate_ate_with_propensity_score(df, formula, T, Y) }')"
   ],
   "metadata": {
    "collapsed": false,
    "ExecuteTime": {
     "end_time": "2024-05-14T08:47:44.847126Z",
     "start_time": "2024-05-14T08:47:44.711854Z"
    }
   },
   "id": "f5e234e3efc687c7",
   "execution_count": 15
  }
 ],
 "metadata": {
  "kernelspec": {
   "display_name": "causal_inference_with_python",
   "language": "python",
   "name": "causal_inference_with_python"
  },
  "language_info": {
   "codemirror_mode": {
    "name": "ipython",
    "version": 3
   },
   "file_extension": ".py",
   "mimetype": "text/x-python",
   "name": "python",
   "nbconvert_exporter": "python",
   "pygments_lexer": "ipython3",
   "version": "3.9.19"
  }
 },
 "nbformat": 4,
 "nbformat_minor": 5
}
