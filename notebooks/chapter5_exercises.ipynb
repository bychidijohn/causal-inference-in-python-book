{
 "cells": [
  {
   "cell_type": "markdown",
   "source": [
    "#   Chapter 5: Exercises on Propensity Score\n"
   ],
   "metadata": {
    "collapsed": false
   },
   "id": "9fb98d6fa0071c6a"
  },
  {
   "cell_type": "markdown",
   "source": [
    "## 1. Estimate the impact of the management training on engagement score"
   ],
   "metadata": {
    "collapsed": false
   },
   "id": "77f6679e0be006eb"
  },
  {
   "cell_type": "markdown",
   "source": [
    "## 2. Estimate the impact of interest rate on loan repayment\n"
   ],
   "metadata": {
    "collapsed": false
   },
   "id": "721da92e32e7ce02"
  },
  {
   "cell_type": "code",
   "outputs": [],
   "source": [],
   "metadata": {
    "collapsed": false
   },
   "id": "71a77670fabd5cf6"
  }
 ],
 "metadata": {
  "kernelspec": {
   "display_name": "Python 3",
   "language": "python",
   "name": "python3"
  },
  "language_info": {
   "codemirror_mode": {
    "name": "ipython",
    "version": 2
   },
   "file_extension": ".py",
   "mimetype": "text/x-python",
   "name": "python",
   "nbconvert_exporter": "python",
   "pygments_lexer": "ipython2",
   "version": "2.7.6"
  }
 },
 "nbformat": 4,
 "nbformat_minor": 5
}
